{
 "cells": [
  {
   "cell_type": "code",
   "execution_count": 1,
   "metadata": {},
   "outputs": [],
   "source": [
    "import pandas as pd"
   ]
  },
  {
   "cell_type": "code",
   "execution_count": 2,
   "metadata": {},
   "outputs": [],
   "source": [
    "# Load file\n",
    "datafile = \"Resources/HeroesOfPymoli_Resources_purchase_data.csv\""
   ]
  },
  {
   "cell_type": "code",
   "execution_count": 3,
   "metadata": {},
   "outputs": [],
   "source": [
    "# Read Purchasing File and store into Pandas data frame\n",
    "purchasedatadf = pd.read_csv(datafile)"
   ]
  },
  {
   "cell_type": "markdown",
   "metadata": {},
   "source": [
    "## Display Player Count"
   ]
  },
  {
   "cell_type": "code",
   "execution_count": 4,
   "metadata": {},
   "outputs": [
    {
     "data": {
      "text/html": [
       "<div>\n",
       "<style scoped>\n",
       "    .dataframe tbody tr th:only-of-type {\n",
       "        vertical-align: middle;\n",
       "    }\n",
       "\n",
       "    .dataframe tbody tr th {\n",
       "        vertical-align: top;\n",
       "    }\n",
       "\n",
       "    .dataframe thead th {\n",
       "        text-align: right;\n",
       "    }\n",
       "</style>\n",
       "<table border=\"1\" class=\"dataframe\">\n",
       "  <thead>\n",
       "    <tr style=\"text-align: right;\">\n",
       "      <th></th>\n",
       "      <th>Total Players</th>\n",
       "    </tr>\n",
       "  </thead>\n",
       "  <tbody>\n",
       "    <tr>\n",
       "      <th>0</th>\n",
       "      <td>576</td>\n",
       "    </tr>\n",
       "  </tbody>\n",
       "</table>\n",
       "</div>"
      ],
      "text/plain": [
       "   Total Players\n",
       "0            576"
      ]
     },
     "execution_count": 4,
     "metadata": {},
     "output_type": "execute_result"
    }
   ],
   "source": [
    "numberofplayers = purchasedatadf[\"SN\"]\n",
    "numplayers = len(numberofplayers.unique().tolist())\n",
    "pd.DataFrame({\"Total Players\" : [numplayers]})"
   ]
  },
  {
   "cell_type": "markdown",
   "metadata": {},
   "source": [
    "## Purchasing Analysis"
   ]
  },
  {
   "cell_type": "code",
   "execution_count": 5,
   "metadata": {},
   "outputs": [
    {
     "data": {
      "text/html": [
       "<style  type=\"text/css\" >\n",
       "</style><table id=\"T_ffc8f5f8_0a8c_11eb_85f7_d5cecfff4cb7\" ><thead>    <tr>        <th class=\"blank level0\" ></th>        <th class=\"col_heading level0 col0\" >Number of Unique Items</th>        <th class=\"col_heading level0 col1\" >Average Price</th>        <th class=\"col_heading level0 col2\" >Number of Purchases</th>        <th class=\"col_heading level0 col3\" >Total Revenue</th>    </tr></thead><tbody>\n",
       "                <tr>\n",
       "                        <th id=\"T_ffc8f5f8_0a8c_11eb_85f7_d5cecfff4cb7level0_row0\" class=\"row_heading level0 row0\" >0</th>\n",
       "                        <td id=\"T_ffc8f5f8_0a8c_11eb_85f7_d5cecfff4cb7row0_col0\" class=\"data row0 col0\" >179</td>\n",
       "                        <td id=\"T_ffc8f5f8_0a8c_11eb_85f7_d5cecfff4cb7row0_col1\" class=\"data row0 col1\" >$3.05</td>\n",
       "                        <td id=\"T_ffc8f5f8_0a8c_11eb_85f7_d5cecfff4cb7row0_col2\" class=\"data row0 col2\" >780</td>\n",
       "                        <td id=\"T_ffc8f5f8_0a8c_11eb_85f7_d5cecfff4cb7row0_col3\" class=\"data row0 col3\" >$2,379.77</td>\n",
       "            </tr>\n",
       "    </tbody></table>"
      ],
      "text/plain": [
       "<pandas.io.formats.style.Styler at 0x196bdb8eaf0>"
      ]
     },
     "execution_count": 5,
     "metadata": {},
     "output_type": "execute_result"
    }
   ],
   "source": [
    "numberitems = purchasedatadf[\"Item ID\"]\n",
    "numuniqueitems = len(numberitems.unique().tolist())\n",
    "\n",
    "price = purchasedatadf[\"Price\"]\n",
    "avgprice = sum(price)/len(price)\n",
    "\n",
    "numberpurchases = purchasedatadf[\"Item ID\"]\n",
    "numpurchases = numberpurchases.count()\n",
    "\n",
    "revenue = sum(price)\n",
    "revenue\n",
    "\n",
    "purchanalysisdf = pd.DataFrame({\"Number of Unique Items\" : [numuniqueitems], \n",
    "                                \"Average Price\" : [avgprice],\n",
    "                                \"Number of Purchases\" : [numpurchases], \n",
    "                                \"Total Revenue\" : [revenue]})\n",
    "purchanalysisdf.style.format({'Number of Unique Items': \"{}\",\n",
    "                              'Average Price': \"${:.2f}\",\n",
    "                              'Number of Purchases': \"{}\",\n",
    "                              \"Total Revenue\":\"${:,.2f}\"})"
   ]
  },
  {
   "cell_type": "markdown",
   "metadata": {},
   "source": [
    "## Gender Demographics"
   ]
  },
  {
   "cell_type": "code",
   "execution_count": 6,
   "metadata": {},
   "outputs": [
    {
     "data": {
      "text/html": [
       "<style  type=\"text/css\" >\n",
       "</style><table id=\"T_ffccc388_0a8c_11eb_9f86_d5cecfff4cb7\" ><thead>    <tr>        <th class=\"blank level0\" ></th>        <th class=\"col_heading level0 col0\" >Total Count</th>        <th class=\"col_heading level0 col1\" >Percentage of Players</th>    </tr></thead><tbody>\n",
       "                <tr>\n",
       "                        <th id=\"T_ffccc388_0a8c_11eb_9f86_d5cecfff4cb7level0_row0\" class=\"row_heading level0 row0\" >Female</th>\n",
       "                        <td id=\"T_ffccc388_0a8c_11eb_9f86_d5cecfff4cb7row0_col0\" class=\"data row0 col0\" >81</td>\n",
       "                        <td id=\"T_ffccc388_0a8c_11eb_9f86_d5cecfff4cb7row0_col1\" class=\"data row0 col1\" >14.06%</td>\n",
       "            </tr>\n",
       "            <tr>\n",
       "                        <th id=\"T_ffccc388_0a8c_11eb_9f86_d5cecfff4cb7level0_row1\" class=\"row_heading level0 row1\" >Male</th>\n",
       "                        <td id=\"T_ffccc388_0a8c_11eb_9f86_d5cecfff4cb7row1_col0\" class=\"data row1 col0\" >484</td>\n",
       "                        <td id=\"T_ffccc388_0a8c_11eb_9f86_d5cecfff4cb7row1_col1\" class=\"data row1 col1\" >84.03%</td>\n",
       "            </tr>\n",
       "            <tr>\n",
       "                        <th id=\"T_ffccc388_0a8c_11eb_9f86_d5cecfff4cb7level0_row2\" class=\"row_heading level0 row2\" >Other / Non-Disclosed</th>\n",
       "                        <td id=\"T_ffccc388_0a8c_11eb_9f86_d5cecfff4cb7row2_col0\" class=\"data row2 col0\" >11</td>\n",
       "                        <td id=\"T_ffccc388_0a8c_11eb_9f86_d5cecfff4cb7row2_col1\" class=\"data row2 col1\" >1.91%</td>\n",
       "            </tr>\n",
       "    </tbody></table>"
      ],
      "text/plain": [
       "<pandas.io.formats.style.Styler at 0x196bdb8e7f0>"
      ]
     },
     "execution_count": 6,
     "metadata": {},
     "output_type": "execute_result"
    }
   ],
   "source": [
    "# Group purchase_data by Gender\n",
    "genderstats = purchasedatadf.groupby(\"Gender\").nunique()\n",
    "gendercounts = genderstats[\"SN\"]\n",
    "\n",
    "percentagegender = (gendercounts / numplayers)*100\n",
    "\n",
    "genderdemographicsdf = pd.DataFrame({\"Total Count\": gendercounts, \n",
    "                                     \"Percentage of Players\": percentagegender}).style.format({'Percentage of Players':\"{0:.2f}%\"})\n",
    "genderdemographicsdf.index.name = None\n",
    "genderdemographicsdf\n",
    "\n"
   ]
  },
  {
   "cell_type": "markdown",
   "metadata": {},
   "source": [
    "## Purchasing Analysis (Gender)"
   ]
  },
  {
   "cell_type": "code",
   "execution_count": 7,
   "metadata": {},
   "outputs": [
    {
     "data": {
      "text/plain": [
       "Gender\n",
       "Female                    361.94\n",
       "Male                     1967.64\n",
       "Other / Non-Disclosed      50.19\n",
       "Name: Price, dtype: float64"
      ]
     },
     "execution_count": 7,
     "metadata": {},
     "output_type": "execute_result"
    }
   ],
   "source": [
    "avgtotalperson = purchasedatadf.groupby(\"Gender\")[\"Price\"].sum()/1\n",
    "avgtotalperson\n"
   ]
  },
  {
   "cell_type": "code",
   "execution_count": 8,
   "metadata": {},
   "outputs": [
    {
     "data": {
      "text/html": [
       "<style  type=\"text/css\" >\n",
       "</style><table id=\"T_ffd10797_0a8c_11eb_b2c2_d5cecfff4cb7\" ><thead>    <tr>        <th class=\"blank level0\" ></th>        <th class=\"col_heading level0 col0\" >Purchase Count</th>        <th class=\"col_heading level0 col1\" >Average Purchase Price</th>        <th class=\"col_heading level0 col2\" >Total Purchase Value</th>        <th class=\"col_heading level0 col3\" >Average Total Purchase per Person</th>    </tr>    <tr>        <th class=\"index_name level0\" >Gender</th>        <th class=\"blank\" ></th>        <th class=\"blank\" ></th>        <th class=\"blank\" ></th>        <th class=\"blank\" ></th>    </tr></thead><tbody>\n",
       "                <tr>\n",
       "                        <th id=\"T_ffd10797_0a8c_11eb_b2c2_d5cecfff4cb7level0_row0\" class=\"row_heading level0 row0\" >Female</th>\n",
       "                        <td id=\"T_ffd10797_0a8c_11eb_b2c2_d5cecfff4cb7row0_col0\" class=\"data row0 col0\" >113</td>\n",
       "                        <td id=\"T_ffd10797_0a8c_11eb_b2c2_d5cecfff4cb7row0_col1\" class=\"data row0 col1\" >$3.20</td>\n",
       "                        <td id=\"T_ffd10797_0a8c_11eb_b2c2_d5cecfff4cb7row0_col2\" class=\"data row0 col2\" >$361.94</td>\n",
       "                        <td id=\"T_ffd10797_0a8c_11eb_b2c2_d5cecfff4cb7row0_col3\" class=\"data row0 col3\" >$4.47</td>\n",
       "            </tr>\n",
       "            <tr>\n",
       "                        <th id=\"T_ffd10797_0a8c_11eb_b2c2_d5cecfff4cb7level0_row1\" class=\"row_heading level0 row1\" >Male</th>\n",
       "                        <td id=\"T_ffd10797_0a8c_11eb_b2c2_d5cecfff4cb7row1_col0\" class=\"data row1 col0\" >652</td>\n",
       "                        <td id=\"T_ffd10797_0a8c_11eb_b2c2_d5cecfff4cb7row1_col1\" class=\"data row1 col1\" >$3.02</td>\n",
       "                        <td id=\"T_ffd10797_0a8c_11eb_b2c2_d5cecfff4cb7row1_col2\" class=\"data row1 col2\" >$1967.64</td>\n",
       "                        <td id=\"T_ffd10797_0a8c_11eb_b2c2_d5cecfff4cb7row1_col3\" class=\"data row1 col3\" >$4.07</td>\n",
       "            </tr>\n",
       "            <tr>\n",
       "                        <th id=\"T_ffd10797_0a8c_11eb_b2c2_d5cecfff4cb7level0_row2\" class=\"row_heading level0 row2\" >Other / Non-Disclosed</th>\n",
       "                        <td id=\"T_ffd10797_0a8c_11eb_b2c2_d5cecfff4cb7row2_col0\" class=\"data row2 col0\" >15</td>\n",
       "                        <td id=\"T_ffd10797_0a8c_11eb_b2c2_d5cecfff4cb7row2_col1\" class=\"data row2 col1\" >$3.35</td>\n",
       "                        <td id=\"T_ffd10797_0a8c_11eb_b2c2_d5cecfff4cb7row2_col2\" class=\"data row2 col2\" >$50.19</td>\n",
       "                        <td id=\"T_ffd10797_0a8c_11eb_b2c2_d5cecfff4cb7row2_col3\" class=\"data row2 col3\" >$4.56</td>\n",
       "            </tr>\n",
       "    </tbody></table>"
      ],
      "text/plain": [
       "<pandas.io.formats.style.Styler at 0x196bebb5220>"
      ]
     },
     "execution_count": 8,
     "metadata": {},
     "output_type": "execute_result"
    }
   ],
   "source": [
    "purchasecount = purchasedatadf.groupby(\"Gender\")[\"Purchase ID\"].count()\n",
    "avgpurchaseprice = purchasedatadf.groupby(\"Gender\")[\"Price\"].sum()/purchasecount\n",
    "totalpurchaseval = purchasedatadf.groupby(\"Gender\")[\"Price\"].sum()\n",
    "avgpurchaseperson = totalpurchaseval/gendercounts\n",
    "\n",
    "genderdemographics = pd.DataFrame({\"Purchase Count\": purchasecount, \n",
    "                                    \"Average Purchase Price\": avgpurchaseprice,\n",
    "                                    \"Total Purchase Value\": totalpurchaseval,\n",
    "                                   \"Average Total Purchase per Person\": avgpurchaseperson\n",
    "                                    })\n",
    "\n",
    "\n",
    "genderdemographics.style.format({\"Average Purchase Price\":\"${:.2f}\",\n",
    "                                 \"Total Purchase Value\":\"${:.2f}\",\"Average Total Purchase per Person\":\"${:.2f}\"})\n",
    "\n"
   ]
  },
  {
   "cell_type": "markdown",
   "metadata": {},
   "source": [
    "## Age Demographics"
   ]
  },
  {
   "cell_type": "code",
   "execution_count": 9,
   "metadata": {},
   "outputs": [],
   "source": [
    "binsage = [0,9,14,19,24,29,34,39,100]\n",
    "labelsage = [\"<10\",\"10-14\",\"15-19\",\"20-24\",\"25,29\",\"30-34\",\"35-40\",\"40+\"]\n",
    "\n"
   ]
  },
  {
   "cell_type": "code",
   "execution_count": 10,
   "metadata": {},
   "outputs": [],
   "source": [
    "purchasedatadf[\"Age Groups\"] = pd.cut(purchasedatadf[\"Age\"], bins=binsage, labels=labelsage)\n",
    "\n",
    "\n"
   ]
  },
  {
   "cell_type": "code",
   "execution_count": 11,
   "metadata": {},
   "outputs": [
    {
     "data": {
      "text/html": [
       "<style  type=\"text/css\" >\n",
       "</style><table id=\"T_ffd680d6_0a8c_11eb_b963_d5cecfff4cb7\" ><thead>    <tr>        <th class=\"blank level0\" ></th>        <th class=\"col_heading level0 col0\" >Total Count</th>        <th class=\"col_heading level0 col1\" >Percentage of Players</th>    </tr></thead><tbody>\n",
       "                <tr>\n",
       "                        <th id=\"T_ffd680d6_0a8c_11eb_b963_d5cecfff4cb7level0_row0\" class=\"row_heading level0 row0\" ><10</th>\n",
       "                        <td id=\"T_ffd680d6_0a8c_11eb_b963_d5cecfff4cb7row0_col0\" class=\"data row0 col0\" >17</td>\n",
       "                        <td id=\"T_ffd680d6_0a8c_11eb_b963_d5cecfff4cb7row0_col1\" class=\"data row0 col1\" >2.95%</td>\n",
       "            </tr>\n",
       "            <tr>\n",
       "                        <th id=\"T_ffd680d6_0a8c_11eb_b963_d5cecfff4cb7level0_row1\" class=\"row_heading level0 row1\" >10-14</th>\n",
       "                        <td id=\"T_ffd680d6_0a8c_11eb_b963_d5cecfff4cb7row1_col0\" class=\"data row1 col0\" >22</td>\n",
       "                        <td id=\"T_ffd680d6_0a8c_11eb_b963_d5cecfff4cb7row1_col1\" class=\"data row1 col1\" >3.82%</td>\n",
       "            </tr>\n",
       "            <tr>\n",
       "                        <th id=\"T_ffd680d6_0a8c_11eb_b963_d5cecfff4cb7level0_row2\" class=\"row_heading level0 row2\" >15-19</th>\n",
       "                        <td id=\"T_ffd680d6_0a8c_11eb_b963_d5cecfff4cb7row2_col0\" class=\"data row2 col0\" >107</td>\n",
       "                        <td id=\"T_ffd680d6_0a8c_11eb_b963_d5cecfff4cb7row2_col1\" class=\"data row2 col1\" >18.58%</td>\n",
       "            </tr>\n",
       "            <tr>\n",
       "                        <th id=\"T_ffd680d6_0a8c_11eb_b963_d5cecfff4cb7level0_row3\" class=\"row_heading level0 row3\" >20-24</th>\n",
       "                        <td id=\"T_ffd680d6_0a8c_11eb_b963_d5cecfff4cb7row3_col0\" class=\"data row3 col0\" >258</td>\n",
       "                        <td id=\"T_ffd680d6_0a8c_11eb_b963_d5cecfff4cb7row3_col1\" class=\"data row3 col1\" >44.79%</td>\n",
       "            </tr>\n",
       "            <tr>\n",
       "                        <th id=\"T_ffd680d6_0a8c_11eb_b963_d5cecfff4cb7level0_row4\" class=\"row_heading level0 row4\" >25,29</th>\n",
       "                        <td id=\"T_ffd680d6_0a8c_11eb_b963_d5cecfff4cb7row4_col0\" class=\"data row4 col0\" >77</td>\n",
       "                        <td id=\"T_ffd680d6_0a8c_11eb_b963_d5cecfff4cb7row4_col1\" class=\"data row4 col1\" >13.37%</td>\n",
       "            </tr>\n",
       "            <tr>\n",
       "                        <th id=\"T_ffd680d6_0a8c_11eb_b963_d5cecfff4cb7level0_row5\" class=\"row_heading level0 row5\" >30-34</th>\n",
       "                        <td id=\"T_ffd680d6_0a8c_11eb_b963_d5cecfff4cb7row5_col0\" class=\"data row5 col0\" >52</td>\n",
       "                        <td id=\"T_ffd680d6_0a8c_11eb_b963_d5cecfff4cb7row5_col1\" class=\"data row5 col1\" >9.03%</td>\n",
       "            </tr>\n",
       "            <tr>\n",
       "                        <th id=\"T_ffd680d6_0a8c_11eb_b963_d5cecfff4cb7level0_row6\" class=\"row_heading level0 row6\" >35-40</th>\n",
       "                        <td id=\"T_ffd680d6_0a8c_11eb_b963_d5cecfff4cb7row6_col0\" class=\"data row6 col0\" >31</td>\n",
       "                        <td id=\"T_ffd680d6_0a8c_11eb_b963_d5cecfff4cb7row6_col1\" class=\"data row6 col1\" >5.38%</td>\n",
       "            </tr>\n",
       "            <tr>\n",
       "                        <th id=\"T_ffd680d6_0a8c_11eb_b963_d5cecfff4cb7level0_row7\" class=\"row_heading level0 row7\" >40+</th>\n",
       "                        <td id=\"T_ffd680d6_0a8c_11eb_b963_d5cecfff4cb7row7_col0\" class=\"data row7 col0\" >12</td>\n",
       "                        <td id=\"T_ffd680d6_0a8c_11eb_b963_d5cecfff4cb7row7_col1\" class=\"data row7 col1\" >2.08%</td>\n",
       "            </tr>\n",
       "    </tbody></table>"
      ],
      "text/plain": [
       "<pandas.io.formats.style.Styler at 0x196bebb54c0>"
      ]
     },
     "execution_count": 11,
     "metadata": {},
     "output_type": "execute_result"
    }
   ],
   "source": [
    "agegroupeddf = purchasedatadf.groupby(\"Age Groups\")\n",
    "accuratecountage = agegroupeddf[\"SN\"].nunique()\n",
    "\n",
    "percentagegroupage = (accuratecountage/numplayers) * 100\n",
    "\n",
    "agedemographics = pd.DataFrame({\"Total Count\": accuratecountage,\"Percentage of Players\": percentagegroupage})\n",
    "agedemographics.index.name = None\n",
    "agedemographics.style.format({\"Percentage of Players\":\"{0:.2f}%\"})\n",
    "\n",
    "\n",
    "\n"
   ]
  },
  {
   "cell_type": "markdown",
   "metadata": {},
   "source": [
    "## Purchasing Analysis (Age)"
   ]
  },
  {
   "cell_type": "code",
   "execution_count": 12,
   "metadata": {},
   "outputs": [],
   "source": [
    "purchasedatadf[\"Age Groups\"] = pd.cut(purchasedatadf[\"Age\"], bins=binsage, labels=labelsage)\n"
   ]
  },
  {
   "cell_type": "code",
   "execution_count": 13,
   "metadata": {},
   "outputs": [],
   "source": [
    "agegroupeddf = purchasedatadf.groupby(\"Age Groups\")\n",
    "totalcountage = agegroupeddf[\"Price\"].count()\n",
    "\n",
    "totalpurchasevalage = purchasedatadf.groupby(\"Age Groups\")[\"Price\"].sum()\n",
    "avgpurchasepersonage = totalpurchasevalage/totalcountage\n",
    "avgpurchaseperson = totalpurchasevalage/totalcountage"
   ]
  },
  {
   "cell_type": "code",
   "execution_count": 14,
   "metadata": {},
   "outputs": [
    {
     "data": {
      "text/html": [
       "<style  type=\"text/css\" >\n",
       "</style><table id=\"T_ffdc9727_0a8c_11eb_817e_d5cecfff4cb7\" ><thead>    <tr>        <th class=\"blank level0\" ></th>        <th class=\"col_heading level0 col0\" >Purchase Count</th>        <th class=\"col_heading level0 col1\" >Average Purchase Price</th>        <th class=\"col_heading level0 col2\" >Total Purchase Value</th>        <th class=\"col_heading level0 col3\" >Average Total Purchase per Person</th>    </tr>    <tr>        <th class=\"index_name level0\" >Age Groups</th>        <th class=\"blank\" ></th>        <th class=\"blank\" ></th>        <th class=\"blank\" ></th>        <th class=\"blank\" ></th>    </tr></thead><tbody>\n",
       "                <tr>\n",
       "                        <th id=\"T_ffdc9727_0a8c_11eb_817e_d5cecfff4cb7level0_row0\" class=\"row_heading level0 row0\" ><10</th>\n",
       "                        <td id=\"T_ffdc9727_0a8c_11eb_817e_d5cecfff4cb7row0_col0\" class=\"data row0 col0\" >23</td>\n",
       "                        <td id=\"T_ffdc9727_0a8c_11eb_817e_d5cecfff4cb7row0_col1\" class=\"data row0 col1\" >$3.35</td>\n",
       "                        <td id=\"T_ffdc9727_0a8c_11eb_817e_d5cecfff4cb7row0_col2\" class=\"data row0 col2\" >$77.13</td>\n",
       "                        <td id=\"T_ffdc9727_0a8c_11eb_817e_d5cecfff4cb7row0_col3\" class=\"data row0 col3\" >$3.35</td>\n",
       "            </tr>\n",
       "            <tr>\n",
       "                        <th id=\"T_ffdc9727_0a8c_11eb_817e_d5cecfff4cb7level0_row1\" class=\"row_heading level0 row1\" >10-14</th>\n",
       "                        <td id=\"T_ffdc9727_0a8c_11eb_817e_d5cecfff4cb7row1_col0\" class=\"data row1 col0\" >28</td>\n",
       "                        <td id=\"T_ffdc9727_0a8c_11eb_817e_d5cecfff4cb7row1_col1\" class=\"data row1 col1\" >$2.96</td>\n",
       "                        <td id=\"T_ffdc9727_0a8c_11eb_817e_d5cecfff4cb7row1_col2\" class=\"data row1 col2\" >$82.78</td>\n",
       "                        <td id=\"T_ffdc9727_0a8c_11eb_817e_d5cecfff4cb7row1_col3\" class=\"data row1 col3\" >$2.96</td>\n",
       "            </tr>\n",
       "            <tr>\n",
       "                        <th id=\"T_ffdc9727_0a8c_11eb_817e_d5cecfff4cb7level0_row2\" class=\"row_heading level0 row2\" >15-19</th>\n",
       "                        <td id=\"T_ffdc9727_0a8c_11eb_817e_d5cecfff4cb7row2_col0\" class=\"data row2 col0\" >136</td>\n",
       "                        <td id=\"T_ffdc9727_0a8c_11eb_817e_d5cecfff4cb7row2_col1\" class=\"data row2 col1\" >$3.04</td>\n",
       "                        <td id=\"T_ffdc9727_0a8c_11eb_817e_d5cecfff4cb7row2_col2\" class=\"data row2 col2\" >$412.89</td>\n",
       "                        <td id=\"T_ffdc9727_0a8c_11eb_817e_d5cecfff4cb7row2_col3\" class=\"data row2 col3\" >$3.04</td>\n",
       "            </tr>\n",
       "            <tr>\n",
       "                        <th id=\"T_ffdc9727_0a8c_11eb_817e_d5cecfff4cb7level0_row3\" class=\"row_heading level0 row3\" >20-24</th>\n",
       "                        <td id=\"T_ffdc9727_0a8c_11eb_817e_d5cecfff4cb7row3_col0\" class=\"data row3 col0\" >365</td>\n",
       "                        <td id=\"T_ffdc9727_0a8c_11eb_817e_d5cecfff4cb7row3_col1\" class=\"data row3 col1\" >$3.05</td>\n",
       "                        <td id=\"T_ffdc9727_0a8c_11eb_817e_d5cecfff4cb7row3_col2\" class=\"data row3 col2\" >$1114.06</td>\n",
       "                        <td id=\"T_ffdc9727_0a8c_11eb_817e_d5cecfff4cb7row3_col3\" class=\"data row3 col3\" >$3.05</td>\n",
       "            </tr>\n",
       "            <tr>\n",
       "                        <th id=\"T_ffdc9727_0a8c_11eb_817e_d5cecfff4cb7level0_row4\" class=\"row_heading level0 row4\" >25,29</th>\n",
       "                        <td id=\"T_ffdc9727_0a8c_11eb_817e_d5cecfff4cb7row4_col0\" class=\"data row4 col0\" >101</td>\n",
       "                        <td id=\"T_ffdc9727_0a8c_11eb_817e_d5cecfff4cb7row4_col1\" class=\"data row4 col1\" >$2.90</td>\n",
       "                        <td id=\"T_ffdc9727_0a8c_11eb_817e_d5cecfff4cb7row4_col2\" class=\"data row4 col2\" >$293.00</td>\n",
       "                        <td id=\"T_ffdc9727_0a8c_11eb_817e_d5cecfff4cb7row4_col3\" class=\"data row4 col3\" >$2.90</td>\n",
       "            </tr>\n",
       "            <tr>\n",
       "                        <th id=\"T_ffdc9727_0a8c_11eb_817e_d5cecfff4cb7level0_row5\" class=\"row_heading level0 row5\" >30-34</th>\n",
       "                        <td id=\"T_ffdc9727_0a8c_11eb_817e_d5cecfff4cb7row5_col0\" class=\"data row5 col0\" >73</td>\n",
       "                        <td id=\"T_ffdc9727_0a8c_11eb_817e_d5cecfff4cb7row5_col1\" class=\"data row5 col1\" >$2.93</td>\n",
       "                        <td id=\"T_ffdc9727_0a8c_11eb_817e_d5cecfff4cb7row5_col2\" class=\"data row5 col2\" >$214.00</td>\n",
       "                        <td id=\"T_ffdc9727_0a8c_11eb_817e_d5cecfff4cb7row5_col3\" class=\"data row5 col3\" >$2.93</td>\n",
       "            </tr>\n",
       "            <tr>\n",
       "                        <th id=\"T_ffdc9727_0a8c_11eb_817e_d5cecfff4cb7level0_row6\" class=\"row_heading level0 row6\" >35-40</th>\n",
       "                        <td id=\"T_ffdc9727_0a8c_11eb_817e_d5cecfff4cb7row6_col0\" class=\"data row6 col0\" >41</td>\n",
       "                        <td id=\"T_ffdc9727_0a8c_11eb_817e_d5cecfff4cb7row6_col1\" class=\"data row6 col1\" >$3.60</td>\n",
       "                        <td id=\"T_ffdc9727_0a8c_11eb_817e_d5cecfff4cb7row6_col2\" class=\"data row6 col2\" >$147.67</td>\n",
       "                        <td id=\"T_ffdc9727_0a8c_11eb_817e_d5cecfff4cb7row6_col3\" class=\"data row6 col3\" >$3.60</td>\n",
       "            </tr>\n",
       "            <tr>\n",
       "                        <th id=\"T_ffdc9727_0a8c_11eb_817e_d5cecfff4cb7level0_row7\" class=\"row_heading level0 row7\" >40+</th>\n",
       "                        <td id=\"T_ffdc9727_0a8c_11eb_817e_d5cecfff4cb7row7_col0\" class=\"data row7 col0\" >13</td>\n",
       "                        <td id=\"T_ffdc9727_0a8c_11eb_817e_d5cecfff4cb7row7_col1\" class=\"data row7 col1\" >$2.94</td>\n",
       "                        <td id=\"T_ffdc9727_0a8c_11eb_817e_d5cecfff4cb7row7_col2\" class=\"data row7 col2\" >$38.24</td>\n",
       "                        <td id=\"T_ffdc9727_0a8c_11eb_817e_d5cecfff4cb7row7_col3\" class=\"data row7 col3\" >$2.94</td>\n",
       "            </tr>\n",
       "    </tbody></table>"
      ],
      "text/plain": [
       "<pandas.io.formats.style.Styler at 0x196bebb56a0>"
      ]
     },
     "execution_count": 14,
     "metadata": {},
     "output_type": "execute_result"
    }
   ],
   "source": [
    "purchasinganalysisdf = pd.DataFrame({\"Purchase Count\": totalcountage, \n",
    "                                    \"Average Purchase Price\": avgpurchasepersonage,\n",
    "                                    \"Total Purchase Value\": totalpurchasevalage,\n",
    "                                     \"Average Total Purchase per Person\": avgpurchasepersonage\n",
    "                                    })\n",
    "\n",
    "purchasinganalysisdf.style.format({\"Average Purchase Price\":\"${:.2f}\",\n",
    "                                   \"Total Purchase Value\":\"${:.2f}\",\"Average Total Purchase per Person\":\"${:.2f}\"})\n"
   ]
  },
  {
   "cell_type": "markdown",
   "metadata": {},
   "source": [
    "## Top Spenders"
   ]
  },
  {
   "cell_type": "code",
   "execution_count": 15,
   "metadata": {},
   "outputs": [],
   "source": [
    "spenderstotalpurchasevaldf = purchasedatadf.loc[:,[\"SN\",\"Price\"]].groupby(\"SN\").sum().sort_values(by = \"Price\",ascending = False)\n",
    "spenderspurchasecountdf = purchasedatadf.loc[:,[\"SN\",\"Price\"]].groupby(\"SN\").count().sort_values(by = \"Price\",ascending = False)\n",
    "spendersavgpurchasepricedf = (spenderstotalpurchasevaldf / spenderspurchasecountdf).sort_values(by = \"Price\",ascending = False)\n"
   ]
  },
  {
   "cell_type": "code",
   "execution_count": 16,
   "metadata": {},
   "outputs": [],
   "source": [
    "mergedf = pd.merge(spenderspurchasecountdf,spendersavgpurchasepricedf, on=\"SN\")\n",
    "\n",
    "topspendersdf = pd.merge(mergedf,spenderstotalpurchasevaldf, on=\"SN\")\n"
   ]
  },
  {
   "cell_type": "code",
   "execution_count": 17,
   "metadata": {},
   "outputs": [
    {
     "data": {
      "text/html": [
       "<style  type=\"text/css\" >\n",
       "</style><table id=\"T_ffe3800f_0a8c_11eb_a951_d5cecfff4cb7\" ><thead>    <tr>        <th class=\"blank level0\" ></th>        <th class=\"col_heading level0 col0\" >Purchase Count</th>        <th class=\"col_heading level0 col1\" >Average Purchase Price</th>        <th class=\"col_heading level0 col2\" >Total Purchase Value</th>    </tr>    <tr>        <th class=\"index_name level0\" >SN</th>        <th class=\"blank\" ></th>        <th class=\"blank\" ></th>        <th class=\"blank\" ></th>    </tr></thead><tbody>\n",
       "                <tr>\n",
       "                        <th id=\"T_ffe3800f_0a8c_11eb_a951_d5cecfff4cb7level0_row0\" class=\"row_heading level0 row0\" >Lisosia93</th>\n",
       "                        <td id=\"T_ffe3800f_0a8c_11eb_a951_d5cecfff4cb7row0_col0\" class=\"data row0 col0\" >5</td>\n",
       "                        <td id=\"T_ffe3800f_0a8c_11eb_a951_d5cecfff4cb7row0_col1\" class=\"data row0 col1\" >$3.79</td>\n",
       "                        <td id=\"T_ffe3800f_0a8c_11eb_a951_d5cecfff4cb7row0_col2\" class=\"data row0 col2\" >$18.96</td>\n",
       "            </tr>\n",
       "            <tr>\n",
       "                        <th id=\"T_ffe3800f_0a8c_11eb_a951_d5cecfff4cb7level0_row1\" class=\"row_heading level0 row1\" >Iral74</th>\n",
       "                        <td id=\"T_ffe3800f_0a8c_11eb_a951_d5cecfff4cb7row1_col0\" class=\"data row1 col0\" >4</td>\n",
       "                        <td id=\"T_ffe3800f_0a8c_11eb_a951_d5cecfff4cb7row1_col1\" class=\"data row1 col1\" >$3.40</td>\n",
       "                        <td id=\"T_ffe3800f_0a8c_11eb_a951_d5cecfff4cb7row1_col2\" class=\"data row1 col2\" >$13.62</td>\n",
       "            </tr>\n",
       "            <tr>\n",
       "                        <th id=\"T_ffe3800f_0a8c_11eb_a951_d5cecfff4cb7level0_row2\" class=\"row_heading level0 row2\" >Idastidru52</th>\n",
       "                        <td id=\"T_ffe3800f_0a8c_11eb_a951_d5cecfff4cb7row2_col0\" class=\"data row2 col0\" >4</td>\n",
       "                        <td id=\"T_ffe3800f_0a8c_11eb_a951_d5cecfff4cb7row2_col1\" class=\"data row2 col1\" >$3.86</td>\n",
       "                        <td id=\"T_ffe3800f_0a8c_11eb_a951_d5cecfff4cb7row2_col2\" class=\"data row2 col2\" >$15.45</td>\n",
       "            </tr>\n",
       "            <tr>\n",
       "                        <th id=\"T_ffe3800f_0a8c_11eb_a951_d5cecfff4cb7level0_row3\" class=\"row_heading level0 row3\" >Chamjask73</th>\n",
       "                        <td id=\"T_ffe3800f_0a8c_11eb_a951_d5cecfff4cb7row3_col0\" class=\"data row3 col0\" >3</td>\n",
       "                        <td id=\"T_ffe3800f_0a8c_11eb_a951_d5cecfff4cb7row3_col1\" class=\"data row3 col1\" >$4.61</td>\n",
       "                        <td id=\"T_ffe3800f_0a8c_11eb_a951_d5cecfff4cb7row3_col2\" class=\"data row3 col2\" >$13.83</td>\n",
       "            </tr>\n",
       "            <tr>\n",
       "                        <th id=\"T_ffe3800f_0a8c_11eb_a951_d5cecfff4cb7level0_row4\" class=\"row_heading level0 row4\" >Iskadarya95</th>\n",
       "                        <td id=\"T_ffe3800f_0a8c_11eb_a951_d5cecfff4cb7row4_col0\" class=\"data row4 col0\" >3</td>\n",
       "                        <td id=\"T_ffe3800f_0a8c_11eb_a951_d5cecfff4cb7row4_col1\" class=\"data row4 col1\" >$4.37</td>\n",
       "                        <td id=\"T_ffe3800f_0a8c_11eb_a951_d5cecfff4cb7row4_col2\" class=\"data row4 col2\" >$13.10</td>\n",
       "            </tr>\n",
       "    </tbody></table>"
      ],
      "text/plain": [
       "<pandas.io.formats.style.Styler at 0x196bec01d00>"
      ]
     },
     "execution_count": 17,
     "metadata": {},
     "output_type": "execute_result"
    }
   ],
   "source": [
    "test = topspendersdf[\"Price\"] >= 13.10\n",
    "topspendersdf.loc[test].rename(columns = {\"Price_x\":\"Purchase Count\",\n",
    "                                          \"Price_y\":\"Average Purchase Price\",\n",
    "                                          \"Price\":\"Total Purchase Value\"}).style.format({\"Average Purchase Price\":\"${:.2f}\",\n",
    "                                                                                         \"Total Purchase Value\":\"${:.2f}\"})\n",
    "\n"
   ]
  },
  {
   "cell_type": "markdown",
   "metadata": {},
   "source": [
    "## Most Popular Items"
   ]
  },
  {
   "cell_type": "code",
   "execution_count": 18,
   "metadata": {},
   "outputs": [],
   "source": [
    "popularpurchasevaldf = purchasedatadf.loc[:,[\"Item ID\",\"Price\"]].groupby(\"Item ID\").sum()\n",
    "popularpurchasecountdf = purchasedatadf.loc[:,[\"Item ID\",\"Price\"]].groupby(\"Item ID\").count()\n",
    "popularitemnamesdf = purchasedatadf.loc[:,[\"Item ID\", \"Item Name\"]]\n",
    "populartotalpurchasedf = (popularpurchasevaldf / popularpurchasecountdf)\n"
   ]
  },
  {
   "cell_type": "code",
   "execution_count": 19,
   "metadata": {
    "scrolled": true
   },
   "outputs": [],
   "source": [
    "mergepopular1df = pd.merge(popularitemnamesdf,popularpurchasecountdf, on=\"Item ID\")\n",
    "mergepopular2df = pd.merge(mergepopular1df,popularpurchasevaldf, on=\"Item ID\")\n",
    "mergepopular3df = pd.merge(mergepopular2df,populartotalpurchasedf, on=\"Item ID\")\n",
    "popularitemsfinaldf = mergepopular3df.groupby([\"Item ID\",\"Item Name\"]).mean().sort_values(by = \"Price_x\",ascending = False)\n",
    "popularitemsreorderdf = popularitemsfinaldf[[\"Price_x\",\"Price\",\"Price_y\"]]\n"
   ]
  },
  {
   "cell_type": "code",
   "execution_count": 20,
   "metadata": {},
   "outputs": [
    {
     "data": {
      "text/html": [
       "<style  type=\"text/css\" >\n",
       "</style><table id=\"T_ffea17e8_0a8c_11eb_a6c5_d5cecfff4cb7\" ><thead>    <tr>        <th class=\"blank\" ></th>        <th class=\"blank level0\" ></th>        <th class=\"col_heading level0 col0\" >Purchase Count</th>        <th class=\"col_heading level0 col1\" >Item Price</th>        <th class=\"col_heading level0 col2\" >Total Purchase Value</th>    </tr>    <tr>        <th class=\"index_name level0\" >Item ID</th>        <th class=\"index_name level1\" >Item Name</th>        <th class=\"blank\" ></th>        <th class=\"blank\" ></th>        <th class=\"blank\" ></th>    </tr></thead><tbody>\n",
       "                <tr>\n",
       "                        <th id=\"T_ffea17e8_0a8c_11eb_a6c5_d5cecfff4cb7level0_row0\" class=\"row_heading level0 row0\" >92</th>\n",
       "                        <th id=\"T_ffea17e8_0a8c_11eb_a6c5_d5cecfff4cb7level1_row0\" class=\"row_heading level1 row0\" >Final Critic</th>\n",
       "                        <td id=\"T_ffea17e8_0a8c_11eb_a6c5_d5cecfff4cb7row0_col0\" class=\"data row0 col0\" >13</td>\n",
       "                        <td id=\"T_ffea17e8_0a8c_11eb_a6c5_d5cecfff4cb7row0_col1\" class=\"data row0 col1\" >$4.61</td>\n",
       "                        <td id=\"T_ffea17e8_0a8c_11eb_a6c5_d5cecfff4cb7row0_col2\" class=\"data row0 col2\" >$59.99</td>\n",
       "            </tr>\n",
       "            <tr>\n",
       "                        <th id=\"T_ffea17e8_0a8c_11eb_a6c5_d5cecfff4cb7level0_row1\" class=\"row_heading level0 row1\" >178</th>\n",
       "                        <th id=\"T_ffea17e8_0a8c_11eb_a6c5_d5cecfff4cb7level1_row1\" class=\"row_heading level1 row1\" >Oathbreaker, Last Hope of the Breaking Storm</th>\n",
       "                        <td id=\"T_ffea17e8_0a8c_11eb_a6c5_d5cecfff4cb7row1_col0\" class=\"data row1 col0\" >12</td>\n",
       "                        <td id=\"T_ffea17e8_0a8c_11eb_a6c5_d5cecfff4cb7row1_col1\" class=\"data row1 col1\" >$4.23</td>\n",
       "                        <td id=\"T_ffea17e8_0a8c_11eb_a6c5_d5cecfff4cb7row1_col2\" class=\"data row1 col2\" >$50.76</td>\n",
       "            </tr>\n",
       "            <tr>\n",
       "                        <th id=\"T_ffea17e8_0a8c_11eb_a6c5_d5cecfff4cb7level0_row2\" class=\"row_heading level0 row2\" >145</th>\n",
       "                        <th id=\"T_ffea17e8_0a8c_11eb_a6c5_d5cecfff4cb7level1_row2\" class=\"row_heading level1 row2\" >Fiery Glass Crusader</th>\n",
       "                        <td id=\"T_ffea17e8_0a8c_11eb_a6c5_d5cecfff4cb7row2_col0\" class=\"data row2 col0\" >9</td>\n",
       "                        <td id=\"T_ffea17e8_0a8c_11eb_a6c5_d5cecfff4cb7row2_col1\" class=\"data row2 col1\" >$4.58</td>\n",
       "                        <td id=\"T_ffea17e8_0a8c_11eb_a6c5_d5cecfff4cb7row2_col2\" class=\"data row2 col2\" >$41.22</td>\n",
       "            </tr>\n",
       "            <tr>\n",
       "                        <th id=\"T_ffea17e8_0a8c_11eb_a6c5_d5cecfff4cb7level0_row3\" class=\"row_heading level0 row3\" >132</th>\n",
       "                        <th id=\"T_ffea17e8_0a8c_11eb_a6c5_d5cecfff4cb7level1_row3\" class=\"row_heading level1 row3\" >Persuasion</th>\n",
       "                        <td id=\"T_ffea17e8_0a8c_11eb_a6c5_d5cecfff4cb7row3_col0\" class=\"data row3 col0\" >9</td>\n",
       "                        <td id=\"T_ffea17e8_0a8c_11eb_a6c5_d5cecfff4cb7row3_col1\" class=\"data row3 col1\" >$3.22</td>\n",
       "                        <td id=\"T_ffea17e8_0a8c_11eb_a6c5_d5cecfff4cb7row3_col2\" class=\"data row3 col2\" >$28.99</td>\n",
       "            </tr>\n",
       "            <tr>\n",
       "                        <th id=\"T_ffea17e8_0a8c_11eb_a6c5_d5cecfff4cb7level0_row4\" class=\"row_heading level0 row4\" >108</th>\n",
       "                        <th id=\"T_ffea17e8_0a8c_11eb_a6c5_d5cecfff4cb7level1_row4\" class=\"row_heading level1 row4\" >Extraction, Quickblade Of Trembling Hands</th>\n",
       "                        <td id=\"T_ffea17e8_0a8c_11eb_a6c5_d5cecfff4cb7row4_col0\" class=\"data row4 col0\" >9</td>\n",
       "                        <td id=\"T_ffea17e8_0a8c_11eb_a6c5_d5cecfff4cb7row4_col1\" class=\"data row4 col1\" >$3.53</td>\n",
       "                        <td id=\"T_ffea17e8_0a8c_11eb_a6c5_d5cecfff4cb7row4_col2\" class=\"data row4 col2\" >$31.77</td>\n",
       "            </tr>\n",
       "    </tbody></table>"
      ],
      "text/plain": [
       "<pandas.io.formats.style.Styler at 0x196bebb1bb0>"
      ]
     },
     "execution_count": 20,
     "metadata": {},
     "output_type": "execute_result"
    }
   ],
   "source": [
    "renamedpopularitemsdf = popularitemsreorderdf.head().rename(columns={\"Price_x\":\"Purchase Count\",\n",
    "                                                                \"Price\":\"Item Price\",\n",
    "                                                              \"Price_y\":\"Total Purchase Value\"\n",
    "                                                             }).style.format({\"Item Price\":\"${:.2f}\",\n",
    "                                                                \"Total Purchase Value\":\"${:.2f}\"})\n",
    "renamedpopularitemsdf\n"
   ]
  },
  {
   "cell_type": "markdown",
   "metadata": {},
   "source": [
    "## Most Profitable Items\n"
   ]
  },
  {
   "cell_type": "code",
   "execution_count": 21,
   "metadata": {},
   "outputs": [],
   "source": [
    "popularitemsfinaldf = mergepopular3df.groupby([\"Item ID\",\"Item Name\"]).mean().sort_values(by = \"Price_y\",ascending = False)\n",
    "popularitemsreorderdf = popularitemsfinaldf[[\"Price_x\",\"Price\",\"Price_y\"]]\n",
    "\n",
    "\n"
   ]
  },
  {
   "cell_type": "code",
   "execution_count": 22,
   "metadata": {},
   "outputs": [
    {
     "data": {
      "text/html": [
       "<style  type=\"text/css\" >\n",
       "</style><table id=\"T_ffedfef2_0a8c_11eb_9cae_d5cecfff4cb7\" ><thead>    <tr>        <th class=\"blank\" ></th>        <th class=\"blank level0\" ></th>        <th class=\"col_heading level0 col0\" >Purchase Count</th>        <th class=\"col_heading level0 col1\" >Item Price</th>        <th class=\"col_heading level0 col2\" >Total Purchase Value</th>    </tr>    <tr>        <th class=\"index_name level0\" >Item ID</th>        <th class=\"index_name level1\" >Item Name</th>        <th class=\"blank\" ></th>        <th class=\"blank\" ></th>        <th class=\"blank\" ></th>    </tr></thead><tbody>\n",
       "                <tr>\n",
       "                        <th id=\"T_ffedfef2_0a8c_11eb_9cae_d5cecfff4cb7level0_row0\" class=\"row_heading level0 row0\" >92</th>\n",
       "                        <th id=\"T_ffedfef2_0a8c_11eb_9cae_d5cecfff4cb7level1_row0\" class=\"row_heading level1 row0\" >Final Critic</th>\n",
       "                        <td id=\"T_ffedfef2_0a8c_11eb_9cae_d5cecfff4cb7row0_col0\" class=\"data row0 col0\" >13</td>\n",
       "                        <td id=\"T_ffedfef2_0a8c_11eb_9cae_d5cecfff4cb7row0_col1\" class=\"data row0 col1\" >$4.61</td>\n",
       "                        <td id=\"T_ffedfef2_0a8c_11eb_9cae_d5cecfff4cb7row0_col2\" class=\"data row0 col2\" >$59.99</td>\n",
       "            </tr>\n",
       "            <tr>\n",
       "                        <th id=\"T_ffedfef2_0a8c_11eb_9cae_d5cecfff4cb7level0_row1\" class=\"row_heading level0 row1\" >178</th>\n",
       "                        <th id=\"T_ffedfef2_0a8c_11eb_9cae_d5cecfff4cb7level1_row1\" class=\"row_heading level1 row1\" >Oathbreaker, Last Hope of the Breaking Storm</th>\n",
       "                        <td id=\"T_ffedfef2_0a8c_11eb_9cae_d5cecfff4cb7row1_col0\" class=\"data row1 col0\" >12</td>\n",
       "                        <td id=\"T_ffedfef2_0a8c_11eb_9cae_d5cecfff4cb7row1_col1\" class=\"data row1 col1\" >$4.23</td>\n",
       "                        <td id=\"T_ffedfef2_0a8c_11eb_9cae_d5cecfff4cb7row1_col2\" class=\"data row1 col2\" >$50.76</td>\n",
       "            </tr>\n",
       "            <tr>\n",
       "                        <th id=\"T_ffedfef2_0a8c_11eb_9cae_d5cecfff4cb7level0_row2\" class=\"row_heading level0 row2\" >82</th>\n",
       "                        <th id=\"T_ffedfef2_0a8c_11eb_9cae_d5cecfff4cb7level1_row2\" class=\"row_heading level1 row2\" >Nirvana</th>\n",
       "                        <td id=\"T_ffedfef2_0a8c_11eb_9cae_d5cecfff4cb7row2_col0\" class=\"data row2 col0\" >9</td>\n",
       "                        <td id=\"T_ffedfef2_0a8c_11eb_9cae_d5cecfff4cb7row2_col1\" class=\"data row2 col1\" >$4.90</td>\n",
       "                        <td id=\"T_ffedfef2_0a8c_11eb_9cae_d5cecfff4cb7row2_col2\" class=\"data row2 col2\" >$44.10</td>\n",
       "            </tr>\n",
       "            <tr>\n",
       "                        <th id=\"T_ffedfef2_0a8c_11eb_9cae_d5cecfff4cb7level0_row3\" class=\"row_heading level0 row3\" >145</th>\n",
       "                        <th id=\"T_ffedfef2_0a8c_11eb_9cae_d5cecfff4cb7level1_row3\" class=\"row_heading level1 row3\" >Fiery Glass Crusader</th>\n",
       "                        <td id=\"T_ffedfef2_0a8c_11eb_9cae_d5cecfff4cb7row3_col0\" class=\"data row3 col0\" >9</td>\n",
       "                        <td id=\"T_ffedfef2_0a8c_11eb_9cae_d5cecfff4cb7row3_col1\" class=\"data row3 col1\" >$4.58</td>\n",
       "                        <td id=\"T_ffedfef2_0a8c_11eb_9cae_d5cecfff4cb7row3_col2\" class=\"data row3 col2\" >$41.22</td>\n",
       "            </tr>\n",
       "            <tr>\n",
       "                        <th id=\"T_ffedfef2_0a8c_11eb_9cae_d5cecfff4cb7level0_row4\" class=\"row_heading level0 row4\" >103</th>\n",
       "                        <th id=\"T_ffedfef2_0a8c_11eb_9cae_d5cecfff4cb7level1_row4\" class=\"row_heading level1 row4\" >Singed Scalpel</th>\n",
       "                        <td id=\"T_ffedfef2_0a8c_11eb_9cae_d5cecfff4cb7row4_col0\" class=\"data row4 col0\" >8</td>\n",
       "                        <td id=\"T_ffedfef2_0a8c_11eb_9cae_d5cecfff4cb7row4_col1\" class=\"data row4 col1\" >$4.35</td>\n",
       "                        <td id=\"T_ffedfef2_0a8c_11eb_9cae_d5cecfff4cb7row4_col2\" class=\"data row4 col2\" >$34.80</td>\n",
       "            </tr>\n",
       "    </tbody></table>"
      ],
      "text/plain": [
       "<pandas.io.formats.style.Styler at 0x196bed1a940>"
      ]
     },
     "execution_count": 22,
     "metadata": {},
     "output_type": "execute_result"
    }
   ],
   "source": [
    "renamedprofitableitemsdf = popularitemsreorderdf.head().rename(columns={\"Price_x\":\"Purchase Count\",\n",
    "                                                                \"Price\":\"Item Price\",\n",
    "                                                              \"Price_y\":\"Total Purchase Value\"\n",
    "                                                             }).style.format({\"Item Price\":\"${:.2f}\",\n",
    "                                                                \"Total Purchase Value\":\"${:.2f}\"})\n",
    "renamedprofitableitemsdf\n"
   ]
  }
 ],
 "metadata": {
  "kernelspec": {
   "display_name": "Python 3",
   "language": "python",
   "name": "python3"
  },
  "language_info": {
   "codemirror_mode": {
    "name": "ipython",
    "version": 3
   },
   "file_extension": ".py",
   "mimetype": "text/x-python",
   "name": "python",
   "nbconvert_exporter": "python",
   "pygments_lexer": "ipython3",
   "version": "3.8.3"
  }
 },
 "nbformat": 4,
 "nbformat_minor": 4
}
